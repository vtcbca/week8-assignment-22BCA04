{
 "cells": [
  {
   "cell_type": "markdown",
   "id": "dd3d05f4",
   "metadata": {},
   "source": [
    "### Sales (sid, year, totalsales)\n",
    "\n",
    "Create above table into a SQLite database with appropriate constraints. \n",
    "\n",
    "A. Insert at least 5-10 records into the sales table.<br> \n",
    "B. Export sales table data into sales.csv file.<br>\n",
    "C. Write a python scripts that read the sales.<br>\n",
    "D. csv file and plot a bar chart that shows totalsales of the year.<br>\n",
    "\n",
    "Also decorate the chart with appropriate title, lables, colours etc."
   ]
  },
  {
   "cell_type": "code",
   "execution_count": 20,
   "id": "453a106e",
   "metadata": {},
   "outputs": [],
   "source": [
    "from sqlite3 import *"
   ]
  },
  {
   "cell_type": "code",
   "execution_count": 21,
   "id": "a299ff43",
   "metadata": {},
   "outputs": [],
   "source": [
    "con=connect(\"c:\\\\sqlite3\\\\Sale_Data.db\")"
   ]
  },
  {
   "cell_type": "code",
   "execution_count": 22,
   "id": "2f27be99",
   "metadata": {},
   "outputs": [],
   "source": [
    "cur=con.cursor()"
   ]
  },
  {
   "cell_type": "code",
   "execution_count": 23,
   "id": "8b997f5f",
   "metadata": {},
   "outputs": [
    {
     "name": "stdout",
     "output_type": "stream",
     "text": [
      "Sale Table Created Successfully\n"
     ]
    }
   ],
   "source": [
    "cur.execute(\"\"\"create table if not exists Sale\n",
    "            (\n",
    "                S_id int,\n",
    "                Year int,\n",
    "                Total_Sales int\n",
    "            )\"\"\")\n",
    "print(\"Sale Table Created Successfully\")"
   ]
  },
  {
   "cell_type": "code",
   "execution_count": 24,
   "id": "f337c3b2",
   "metadata": {},
   "outputs": [
    {
     "name": "stdout",
     "output_type": "stream",
     "text": [
      "Enter Sales ID:1\n",
      "Enter Year2011\n",
      "Enter Total Sell:5000\n",
      "Enter Sales ID:2\n",
      "Enter Year2012\n",
      "Enter Total Sell:7500\n",
      "Enter Sales ID:3\n",
      "Enter Year2013\n",
      "Enter Total Sell:9500\n",
      "Enter Sales ID:4\n",
      "Enter Year2014\n",
      "Enter Total Sell:8500\n",
      "Enter Sales ID:5\n",
      "Enter Year2015\n",
      "Enter Total Sell:10500\n"
     ]
    }
   ],
   "source": [
    "records=[]\n",
    "for i in range(5):\n",
    "    n=int(input(\"Enter Sales ID:\"))\n",
    "    year=int(input('Enter Year'))\n",
    "    total_Sell=int(input('Enter Total Sell:'))\n",
    "    data=[n,year,total_Sell]\n",
    "    records.append(data)"
   ]
  },
  {
   "cell_type": "markdown",
   "id": "c9ce2176",
   "metadata": {},
   "source": [
    "### A. Insert at least 5-10 records into the sales table"
   ]
  },
  {
   "cell_type": "code",
   "execution_count": 26,
   "id": "0315a2d4",
   "metadata": {},
   "outputs": [
    {
     "name": "stdout",
     "output_type": "stream",
     "text": [
      "Insert Successfully\n"
     ]
    }
   ],
   "source": [
    "cur.executemany(\"insert into Sale values(?,?,?)\",records)\n",
    "print('Insert Successfully')"
   ]
  },
  {
   "cell_type": "code",
   "execution_count": 30,
   "id": "1c58cc1f",
   "metadata": {},
   "outputs": [],
   "source": [
    "con.commit()"
   ]
  },
  {
   "cell_type": "markdown",
   "id": "171c349f",
   "metadata": {},
   "source": [
    "### B. Export sales table data into sales.csv file.\n",
    "<h4>in sqlite3 terminl</h4>"
   ]
  },
  {
   "cell_type": "markdown",
   "id": "e3884ad0",
   "metadata": {},
   "source": [
    "'''<br>\n",
    ".output sales.csv<br>\n",
    ".header on<br>\n",
    ".mode csv<br>\n",
    "select * from Sale;<br>\n",
    ".quit<br>\n",
    "'''"
   ]
  },
  {
   "cell_type": "markdown",
   "id": "a05f855a",
   "metadata": {},
   "source": [
    "### C. Write a python scripts that read the sales."
   ]
  },
  {
   "cell_type": "code",
   "execution_count": 31,
   "id": "f288d363",
   "metadata": {},
   "outputs": [],
   "source": [
    "from csv import *"
   ]
  },
  {
   "cell_type": "code",
   "execution_count": 32,
   "id": "a2e42a2b",
   "metadata": {},
   "outputs": [],
   "source": [
    "file=\"c:\\\\sqlite3\\\\sales.csv\""
   ]
  },
  {
   "cell_type": "code",
   "execution_count": 34,
   "id": "d0319695",
   "metadata": {},
   "outputs": [
    {
     "name": "stdout",
     "output_type": "stream",
     "text": [
      "['S_id', 'Year', 'Total_Sales']\n",
      "['1', '2011', '5000']\n",
      "['2', '2012', '7500']\n",
      "['3', '2013', '9500']\n",
      "['4', '2014', '8500']\n",
      "['5', '2015', '10500']\n"
     ]
    }
   ],
   "source": [
    "with open(file,\"r\")as read_file:\n",
    "    for row in reader(read_file):\n",
    "        print(row)"
   ]
  },
  {
   "cell_type": "markdown",
   "id": "113d24e6",
   "metadata": {},
   "source": [
    "### D. csv file and plot a bar chart that shows totalsales of the year.\n",
    "### Also decorate the chart with appropriate title, lables, colours etc."
   ]
  },
  {
   "cell_type": "code",
   "execution_count": 67,
   "id": "75ed67db",
   "metadata": {},
   "outputs": [],
   "source": [
    "import matplotlib.pyplot as plt"
   ]
  },
  {
   "cell_type": "code",
   "execution_count": 36,
   "id": "7b54b32d",
   "metadata": {},
   "outputs": [],
   "source": [
    "from pandas import *"
   ]
  },
  {
   "cell_type": "code",
   "execution_count": 37,
   "id": "9ced09e7",
   "metadata": {},
   "outputs": [
    {
     "data": {
      "text/html": [
       "<div>\n",
       "<style scoped>\n",
       "    .dataframe tbody tr th:only-of-type {\n",
       "        vertical-align: middle;\n",
       "    }\n",
       "\n",
       "    .dataframe tbody tr th {\n",
       "        vertical-align: top;\n",
       "    }\n",
       "\n",
       "    .dataframe thead th {\n",
       "        text-align: right;\n",
       "    }\n",
       "</style>\n",
       "<table border=\"1\" class=\"dataframe\">\n",
       "  <thead>\n",
       "    <tr style=\"text-align: right;\">\n",
       "      <th></th>\n",
       "      <th>S_id</th>\n",
       "      <th>Year</th>\n",
       "      <th>Total_Sales</th>\n",
       "    </tr>\n",
       "  </thead>\n",
       "  <tbody>\n",
       "    <tr>\n",
       "      <th>0</th>\n",
       "      <td>1</td>\n",
       "      <td>2011</td>\n",
       "      <td>5000</td>\n",
       "    </tr>\n",
       "    <tr>\n",
       "      <th>1</th>\n",
       "      <td>2</td>\n",
       "      <td>2012</td>\n",
       "      <td>7500</td>\n",
       "    </tr>\n",
       "    <tr>\n",
       "      <th>2</th>\n",
       "      <td>3</td>\n",
       "      <td>2013</td>\n",
       "      <td>9500</td>\n",
       "    </tr>\n",
       "    <tr>\n",
       "      <th>3</th>\n",
       "      <td>4</td>\n",
       "      <td>2014</td>\n",
       "      <td>8500</td>\n",
       "    </tr>\n",
       "    <tr>\n",
       "      <th>4</th>\n",
       "      <td>5</td>\n",
       "      <td>2015</td>\n",
       "      <td>10500</td>\n",
       "    </tr>\n",
       "  </tbody>\n",
       "</table>\n",
       "</div>"
      ],
      "text/plain": [
       "   S_id  Year  Total_Sales\n",
       "0     1  2011         5000\n",
       "1     2  2012         7500\n",
       "2     3  2013         9500\n",
       "3     4  2014         8500\n",
       "4     5  2015        10500"
      ]
     },
     "execution_count": 37,
     "metadata": {},
     "output_type": "execute_result"
    }
   ],
   "source": [
    "df=read_csv(file)\n",
    "df"
   ]
  },
  {
   "cell_type": "code",
   "execution_count": 68,
   "id": "0c6f67d2",
   "metadata": {},
   "outputs": [],
   "source": [
    "y=df['Year']\n",
    "t=df['Total_Sales']"
   ]
  },
  {
   "cell_type": "code",
   "execution_count": 76,
   "id": "48479244",
   "metadata": {},
   "outputs": [
    {
     "data": {
      "text/plain": [
       "Text(0, 0.5, 'Total Sell')"
      ]
     },
     "execution_count": 76,
     "metadata": {},
     "output_type": "execute_result"
    },
    {
     "data": {
      "image/png": "[encoded data removed]",
      "text/plain": [
       "<Figure size 640x480 with 1 Axes>"
      ]
     },
     "metadata": {},
     "output_type": "display_data"
    }
   ],
   "source": [
    "# for Create a Bar Chart We USe bar() function\n",
    "plt.bar(y,t,color=\"brown\")\n",
    "plt.legend(\"total sell\",bbox_to_anchor=(1.0,1.05),facecolor=\"cyan\",title=\"Legend\")\n",
    "plt.title(\"Total Sell of 5 Years\")\n",
    "plt.xticks(rotation=25)\n",
    "plt.xlabel(\"Year\")\n",
    "plt.ylabel(\"Total Sell\")"
   ]
  }
 ],
 "metadata": {
  "kernelspec": {
   "display_name": "Python 3 (ipykernel)",
   "language": "python",
   "name": "python3"
  },
  "language_info": {
   "codemirror_mode": {
    "name": "ipython",
    "version": 3
   },
   "file_extension": ".py",
   "mimetype": "text/x-python",
   "name": "python",
   "nbconvert_exporter": "python",
   "pygments_lexer": "ipython3",
   "version": "3.11.3"
  }
 },
 "nbformat": 4,
 "nbformat_minor": 5
}
